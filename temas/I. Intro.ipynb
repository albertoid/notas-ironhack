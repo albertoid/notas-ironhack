{
 "cells": [
  {
   "cell_type": "markdown",
   "metadata": {},
   "source": [
    "#  I. Introducción a Python"
   ]
  },
  {
   "cell_type": "markdown",
   "metadata": {},
   "source": []
  },
  {
   "cell_type": "markdown",
   "metadata": {},
   "source": [
    "## Comprensión de listas"
   ]
  },
  {
   "cell_type": "markdown",
   "metadata": {},
   "source": [
    "### Introducción"
   ]
  },
  {
   "cell_type": "markdown",
   "metadata": {},
   "source": [
    "A medida que sigas mejorando tus habilidades de programación en Python, encontrarás formas útiles de combinar algunos de los conceptos básicos que aprendiste anteriormente en el programa. En esta lección, aprenderemos acerca de la comprensión de listas. Las comprensiones de lista combinan los conceptos de almacenamiento en estructuras de datos, iteración, e incluso lógica condicional en una forma eficiente."
   ]
  },
  {
   "cell_type": "markdown",
   "metadata": {},
   "source": [
    "### Combinación de almacenamiento e iteración"
   ]
  },
  {
   "cell_type": "markdown",
   "metadata": {},
   "source": [
    "La idea principal detrás de la comprensión de la lista es el almacenamiento iterativo. En algunas de las lecciones anteriores, nos hemos encontrado con escenarios en los que tuvimos que crear una lista vacía e iterar a través de un bucle para añadir un valor a la lista al final de cada iteración."
   ]
  },
  {
   "cell_type": "code",
   "execution_count": 2,
   "metadata": {},
   "outputs": [
    {
     "name": "stdout",
     "output_type": "stream",
     "text": [
      "[0, 1, 2, 3, 4, 5, 6, 7, 8, 9]\n"
     ]
    }
   ],
   "source": [
    "lst = []\n",
    " \n",
    "for i in range(10):\n",
    "    lst.append(i)\n",
    " \n",
    "print(lst)"
   ]
  },
  {
   "cell_type": "markdown",
   "metadata": {},
   "source": [
    "En este ejemplo, creamos una lista vacía y para cada número de la gama, añadimos ese número a la lista a medida que lo encontramos."
   ]
  },
  {
   "cell_type": "markdown",
   "metadata": {},
   "source": [
    "### Comprensión de listas"
   ]
  },
  {
   "cell_type": "markdown",
   "metadata": {},
   "source": [
    "La comprensión de una lista es una forma de racionalizar esa lógica en una sola línea de código Python. En lugar de crear una lista vacía y llenarla con el método del apéndice, los corchetes de la comprensión de la lista hacen que los resultados devueltos se empaqueten en una lista. A continuación se muestra el aspecto del ejemplo anterior como comprensión de la lista."
   ]
  },
  {
   "cell_type": "code",
   "execution_count": 3,
   "metadata": {},
   "outputs": [
    {
     "name": "stdout",
     "output_type": "stream",
     "text": [
      "[0, 1, 2, 3, 4, 5, 6, 7, 8, 9]\n"
     ]
    }
   ],
   "source": [
    "lst = [i for i in range(10)]\n",
    "print(lst)"
   ]
  },
  {
   "cell_type": "markdown",
   "metadata": {},
   "source": [
    "Como pueden ver, obtenemos el mismo resultado con menos código, lo que generalmente es algo bueno. Dentro de los corchetes, pedimos el valor para cada valor en ese rango."
   ]
  },
  {
   "cell_type": "markdown",
   "metadata": {},
   "source": [
    "### Adición de condiciones a la comprensión de lista"
   ]
  },
  {
   "cell_type": "markdown",
   "metadata": {},
   "source": [
    "También podemos incorporar declaraciones condicionales en nuestras listas de comprensión. Cuando se añaden condiciones, deben ser colocadas después del bucle for-loop apropiado para excluir los resultados que no satisfacen nuestra condición. El ejemplo siguiente devuelve cada valor en un rango pero sólo si el valor es mayor o igual a 5."
   ]
  },
  {
   "cell_type": "code",
   "execution_count": 4,
   "metadata": {},
   "outputs": [
    {
     "name": "stdout",
     "output_type": "stream",
     "text": [
      "[5, 6, 7, 8, 9, 10, 11, 12, 13, 14, 15, 16, 17, 18, 19]\n"
     ]
    }
   ],
   "source": [
    "lst = [i for i in range(20) if i >= 5]\n",
    "print(lst)"
   ]
  },
  {
   "cell_type": "markdown",
   "metadata": {},
   "source": [
    "La comprensión de la lista puede manejar un poco de complejidad. Incluso podemos incorporar la lógica condicional en las comprensiones de listas. Por ejemplo, supongamos que tuviéramos una lista de listas como la del ejemplo siguiente y quisiéramos extraer una lista de números pares que aparecen en listas anidadas de menos de 4 elementos de longitud. Podríamos lograrlo con una comprensión de lista que contenga dos para bucles y dos declaraciones condicionales como sigue."
   ]
  },
  {
   "cell_type": "code",
   "execution_count": 5,
   "metadata": {},
   "outputs": [
    {
     "name": "stdout",
     "output_type": "stream",
     "text": [
      "[6, 8, 10]\n"
     ]
    }
   ],
   "source": [
    "lst_lst = [[1,2,3,4,5], [6,7,8], [9,10]]\n",
    " \n",
    "lst = [y for x in lst_lst if len(x) < 4 for y in x if y % 2 == 0]\n",
    "print(lst)"
   ]
  },
  {
   "cell_type": "markdown",
   "metadata": {},
   "source": [
    "Tenga en cuenta que la condición para cada bucle viene directamente después del bucle para el que se aplica. Esta habilidad para manejar la lógica compleja con tal eficiencia hace que la comprensión de listas sea una herramienta muy poderosa para tener en su arsenal."
   ]
  },
  {
   "cell_type": "markdown",
   "metadata": {},
   "source": [
    "### Múltiples ciclos for en las comprensiones de listas"
   ]
  },
  {
   "cell_type": "markdown",
   "metadata": {},
   "source": [
    "A veces nos encontramos con situaciones más complejas en las que se requieren múltiples bucles. Por ejemplo, supongamos que usted tiene algunas listas anidadas cuyos valores quiere desempaquetar en una sola lista. Usando listas regulares y para los bucles, lo haríamos de la siguiente manera."
   ]
  },
  {
   "cell_type": "code",
   "execution_count": 6,
   "metadata": {},
   "outputs": [
    {
     "name": "stdout",
     "output_type": "stream",
     "text": [
      "[1, 2, 3, 4, 5, 6, 7, 8, 9]\n"
     ]
    }
   ],
   "source": [
    "lst_lst = [[1,2,3], [4,5,6], [7,8,9]]\n",
    " \n",
    "lst = []\n",
    " \n",
    "for x in lst_lst:\n",
    "    for y in x:\n",
    "        lst.append(y)\n",
    " \n",
    "print(lst)"
   ]
  },
  {
   "cell_type": "markdown",
   "metadata": {},
   "source": [
    "La comprensión de la lista nos proporciona una forma muy eficiente de manejar estos casos también. Para construir una comprensión de lista con múltiples para bucles, pediríamos el resultado final que queremos seguido de la serie de bucles. Esto puede parecer un poco confuso porque estamos pidiendo por adelantado el resultado que viene al final del último bucle, pero después de escribirlos durante un tiempo, encontrará que le ayuda a pensar en el resultado que quiere y luego en cómo obtenerlo."
   ]
  },
  {
   "cell_type": "code",
   "execution_count": 7,
   "metadata": {},
   "outputs": [
    {
     "name": "stdout",
     "output_type": "stream",
     "text": [
      "[1, 2, 3, 4, 5, 6, 7, 8, 9]\n"
     ]
    }
   ],
   "source": [
    "lst_lst = [[1,2,3], [4,5,6], [7,8,9]]\n",
    "\n",
    "lst = [y for x in lst_lst for y in x]\n",
    "print(lst)"
   ]
  },
  {
   "cell_type": "markdown",
   "metadata": {},
   "source": [
    "Observe que el orden de los bucles de la lista de comprensión es exactamente el mismo que el orden con el que lo habría escrito con el regular de los bucles. Estarás tentado a escribirlo al revés ( `[y para y en x para x en lst_lst]`), pero eso no devolverá el resultado que queremos. Así que recuerda que el orden de los bucles for es el mismo dentro de una comprensión de lista que fuera de la comprensión de lista."
   ]
  },
  {
   "cell_type": "markdown",
   "metadata": {},
   "source": [
    "### Usos prácticos para la comprensión de listas - Lectura de múltiples archivos"
   ]
  },
  {
   "cell_type": "markdown",
   "metadata": {},
   "source": [
    "Un caso de uso en el que la comprensión de la lista es útil es cuando los datos se dividen en varios archivos. Por ejemplo, supongamos que tenemos un directorio de datos que contiene varios archivos CSV (entre otros archivos), cada uno con la misma información (columnas) para grupos o divisiones separadas. Podríamos usar una comprensión de la lista con una condición endswith('.csv') en ella para obtener una lista sólo de los archivos CSV de ese directorio. Podríamos usar otra comprensión de la lista para que Pandas lea cada uno de esos archivos y luego el método pd.concat para combinarlos todos en un único conjunto de datos que podamos analizar como sigue."
   ]
  },
  {
   "cell_type": "code",
   "execution_count": 18,
   "metadata": {},
   "outputs": [],
   "source": [
    "import os\n",
    "import pandas as pd\n",
    " \n",
    "file_list = [f for f in os.listdir('../data/data') if f.endswith('.csv')]\n",
    "data_sets = [pd.read_csv(os.path.join('../data/data', f)) for f in file_list]\n",
    "data = pd.concat(data_sets, axis=0)"
   ]
  },
  {
   "cell_type": "markdown",
   "metadata": {},
   "source": [
    "### Selección de columnas del marco de datos con base a las condiciones"
   ]
  },
  {
   "cell_type": "markdown",
   "metadata": {},
   "source": [
    "Otro caso de uso sería la selección de las columnas del marco de datos en base a una condición que tienen en común. En el ejemplo que figura a continuación se lee nuestro archivo de datos de vehículos, se utiliza el método _get_numeric_data para recuperar todas las columnas numéricas y luego se utiliza una comprensión de la lista para devolver sólo las columnas que tienen una media superior a 15."
   ]
  },
  {
   "cell_type": "code",
   "execution_count": 22,
   "metadata": {},
   "outputs": [
    {
     "name": "stdout",
     "output_type": "stream",
     "text": [
      "['Year', 'Fuel Barrels/Year', 'City MPG', 'Highway MPG', 'Combined MPG', 'CO2 Emission Grams/Mile', 'Fuel Cost/Year']\n"
     ]
    }
   ],
   "source": [
    "data = pd.read_csv('../data/vehicles/vehicles.csv')\n",
    "\n",
    "selected_columns = [col for col in data._get_numeric_data() if data[col].mean() > 15]\n",
    "print(selected_columns)"
   ]
  },
  {
   "cell_type": "markdown",
   "metadata": {},
   "source": [
    "### Más ejercicios de comprensión de listas"
   ]
  },
  {
   "cell_type": "markdown",
   "metadata": {},
   "source": [
    "#### Listas"
   ]
  },
  {
   "cell_type": "markdown",
   "metadata": {},
   "source": [
    "Una lista es un conjunto de elementos de cualquier tipo que se ponen entre corchetes y se separan mediante comas, por ejemplo:"
   ]
  },
  {
   "cell_type": "code",
   "execution_count": 23,
   "metadata": {},
   "outputs": [],
   "source": [
    "lst=[10,24,3,4,65,6,722,8,9]"
   ]
  },
  {
   "cell_type": "markdown",
   "metadata": {},
   "source": [
    "Podemos acceder a cada elemento mediante un ciclo for imprimiendo cada elemento `e`"
   ]
  },
  {
   "cell_type": "code",
   "execution_count": 24,
   "metadata": {},
   "outputs": [
    {
     "name": "stdout",
     "output_type": "stream",
     "text": [
      "10\n",
      "24\n",
      "3\n",
      "4\n",
      "65\n",
      "6\n",
      "722\n",
      "8\n",
      "9\n"
     ]
    }
   ],
   "source": [
    "for e in lst:\n",
    "    print (e)"
   ]
  },
  {
   "cell_type": "markdown",
   "metadata": {},
   "source": [
    "De la misma manera podemos hacer operaciones matemáticas con cada elemento de la lista y seleccionar los elementos desados con base a alguna condición en un ciclo `for`. A continuación se imprimen aquellos elementos pares de la lista."
   ]
  },
  {
   "cell_type": "code",
   "execution_count": 25,
   "metadata": {},
   "outputs": [
    {
     "name": "stdout",
     "output_type": "stream",
     "text": [
      "10\n",
      "24\n",
      "4\n",
      "6\n",
      "722\n",
      "8\n"
     ]
    }
   ],
   "source": [
    "for e in lst:\n",
    "    if e%2==0:\n",
    "        print (e)"
   ]
  },
  {
   "cell_type": "markdown",
   "metadata": {},
   "source": [
    "Otra manera de generar listas es mediante la generación de iterables, que no son otra cosa que listas. la función `range` genera una lista de números enteros consecutivos que inicia por default en 0  y va incrementandose de uno en uno hasta un número de terminado, lo que puede ser modificado a conveniencia mediante dos parámetros adicionales. En caso de solo indicar un parámetro este será el número de elementos de la lista. Por lo anterior debe considerarse que  se tendrán numeros de `0 a n-1` siendo `n` el número ingresado en la función. Por ejemplo tomando la longitud de la lista definida previamente con la función `len` obtenemos un interable u otra lista con el número de elementos de la lista definada: "
   ]
  },
  {
   "cell_type": "code",
   "execution_count": 26,
   "metadata": {},
   "outputs": [
    {
     "name": "stdout",
     "output_type": "stream",
     "text": [
      "0\n",
      "1\n",
      "2\n",
      "3\n",
      "4\n",
      "5\n",
      "6\n",
      "7\n",
      "8\n"
     ]
    }
   ],
   "source": [
    "for i in range(len(lst)):\n",
    "    print (i)"
   ]
  },
  {
   "cell_type": "markdown",
   "metadata": {},
   "source": [
    "Por ejemplo, asignando todos los parámetros a la función `range` si le indicamos que comience en 1, que queremos un elemento más que la longitud de la lista `lst`y que incremente cada elemento en pasos de 3 en 3, nos quedaría como sigue:"
   ]
  },
  {
   "cell_type": "code",
   "execution_count": 27,
   "metadata": {},
   "outputs": [
    {
     "name": "stdout",
     "output_type": "stream",
     "text": [
      "1\n",
      "4\n",
      "7\n"
     ]
    }
   ],
   "source": [
    "for i in range(1, len(lst)+1, 3):\n",
    "    print (i)"
   ]
  },
  {
   "cell_type": "markdown",
   "metadata": {},
   "source": [
    "Contamos para el control de ciclos for y el manejo de listas con la función `enumerate` que entrega dos valores, el primero es el índice de las listas y el segundo el elmenento de la lista. Observa el ejemplo utilizando la lista descrita con anterioridad: "
   ]
  },
  {
   "cell_type": "code",
   "execution_count": 28,
   "metadata": {},
   "outputs": [
    {
     "name": "stdout",
     "output_type": "stream",
     "text": [
      "0 10\n",
      "1 24\n",
      "2 3\n",
      "3 4\n",
      "4 65\n",
      "5 6\n",
      "6 722\n",
      "7 8\n",
      "8 9\n"
     ]
    }
   ],
   "source": [
    "for i,e in enumerate(lst):\n",
    "    print (i,e)"
   ]
  },
  {
   "cell_type": "markdown",
   "metadata": {},
   "source": [
    "Para agregar elementos a las listas (recordemos que son dinámicas) utilizaremos el método `append` esto agregará un elemento al final de lista. Consideremos una lista vacia a la que le iremos agregando elementos mediante un ciclo `for`y el método `append`:"
   ]
  },
  {
   "cell_type": "code",
   "execution_count": 29,
   "metadata": {},
   "outputs": [
    {
     "name": "stdout",
     "output_type": "stream",
     "text": [
      "[0, 1, 2, 3, 4, 5, 6, 7, 8, 9, 10, 11, 12, 13, 14, 15, 16, 17, 18, 19]\n"
     ]
    }
   ],
   "source": [
    "lst=[]\n",
    "for i in range(20):\n",
    "    lst.append(i)\n",
    "print (lst)"
   ]
  },
  {
   "cell_type": "markdown",
   "metadata": {},
   "source": [
    "Tambien podemos  agergar elementos haciendo un cálculo previo e ir guardando nuestros resultados, lo que es múy útil para general listas con números que pueden ir describiendo una función acumulativa, o una   función de cualquier tipo."
   ]
  },
  {
   "cell_type": "code",
   "execution_count": 30,
   "metadata": {},
   "outputs": [
    {
     "name": "stdout",
     "output_type": "stream",
     "text": [
      "5.1\n",
      "5.199999999999999\n",
      "5.299999999999999\n",
      "5.399999999999999\n",
      "5.499999999999998\n"
     ]
    }
   ],
   "source": [
    "a=5\n",
    "for i in range(5):\n",
    "    a+=.1\n",
    "    print (a)"
   ]
  },
  {
   "cell_type": "markdown",
   "metadata": {},
   "source": [
    "Como mencioné anteriormente una lista puede contener cualquier tipo de elemento, incluso otras listas, y estas no necesariamente deben de ser de la lisma longitud o profundidad, aunque la simetría de los elementos nos ayuda a calcular la ubicación de los elementos. A continuación se genera una lista de listas mediante un ciclo `for`"
   ]
  },
  {
   "cell_type": "code",
   "execution_count": 31,
   "metadata": {},
   "outputs": [
    {
     "name": "stdout",
     "output_type": "stream",
     "text": [
      "[[1, 2, 3], [4, 5, 6], [7, 8, 9]]\n"
     ]
    }
   ],
   "source": [
    "lst_lst=[]\n",
    "for i in range(0,9,3):\n",
    "    lst_lst.append([i+1, i+2, i+3])\n",
    "print (lst_lst)"
   ]
  },
  {
   "cell_type": "markdown",
   "metadata": {},
   "source": [
    "Para acceder a cada lista, al estar en el primer nivel de esta la invocamos  con su índice:"
   ]
  },
  {
   "cell_type": "code",
   "execution_count": 32,
   "metadata": {},
   "outputs": [
    {
     "data": {
      "text/plain": [
       "[1, 2, 3]"
      ]
     },
     "execution_count": 32,
     "metadata": {},
     "output_type": "execute_result"
    }
   ],
   "source": [
    "lst_lst[0]"
   ]
  },
  {
   "cell_type": "markdown",
   "metadata": {},
   "source": [
    "Para entrar a los elementos de cada sub-lista, debemos encadenar los índices en orden según su profundidad, de modo que el segundo elemento de la primera lista deberá buscarse con los índices `[0][1]`recordando que los índices de las listas funcionan con el formato `n-1`"
   ]
  },
  {
   "cell_type": "code",
   "execution_count": 33,
   "metadata": {},
   "outputs": [
    {
     "data": {
      "text/plain": [
       "2"
      ]
     },
     "execution_count": 33,
     "metadata": {},
     "output_type": "execute_result"
    }
   ],
   "source": [
    "lst_lst[0][1]"
   ]
  },
  {
   "cell_type": "markdown",
   "metadata": {},
   "source": [
    "La comprensión de listas se usa precimenta para sintetizar la dedclaración y creación de listas mediante un ciclo for, asignando directamente los valores a la lista integrando el ciclo `for` a la declaración de la lista, por lo que para crear la lista que hice con anterioridad lo harémos de la siguiente forma:"
   ]
  },
  {
   "cell_type": "code",
   "execution_count": 34,
   "metadata": {},
   "outputs": [
    {
     "name": "stdout",
     "output_type": "stream",
     "text": [
      "[[1, 2, 3], [4, 5, 6], [7, 8, 9]]\n"
     ]
    }
   ],
   "source": [
    "lst_lst=[[i, i+1, i+2] for i in range(1,10,3)]\n",
    "print(lst_lst)"
   ]
  },
  {
   "cell_type": "markdown",
   "metadata": {},
   "source": [
    "*In[22]"
   ]
  },
  {
   "cell_type": "code",
   "execution_count": null,
   "metadata": {},
   "outputs": [],
   "source": []
  },
  {
   "cell_type": "code",
   "execution_count": null,
   "metadata": {},
   "outputs": [],
   "source": []
  },
  {
   "cell_type": "code",
   "execution_count": null,
   "metadata": {},
   "outputs": [],
   "source": []
  },
  {
   "cell_type": "code",
   "execution_count": null,
   "metadata": {},
   "outputs": [],
   "source": []
  },
  {
   "cell_type": "markdown",
   "metadata": {},
   "source": [
    "## Diccionarios, Conjuntos y Tuplas"
   ]
  },
  {
   "cell_type": "code",
   "execution_count": null,
   "metadata": {},
   "outputs": [],
   "source": []
  },
  {
   "cell_type": "code",
   "execution_count": null,
   "metadata": {},
   "outputs": [],
   "source": []
  },
  {
   "cell_type": "code",
   "execution_count": null,
   "metadata": {},
   "outputs": [],
   "source": []
  },
  {
   "cell_type": "code",
   "execution_count": null,
   "metadata": {},
   "outputs": [],
   "source": []
  },
  {
   "cell_type": "code",
   "execution_count": null,
   "metadata": {},
   "outputs": [],
   "source": []
  },
  {
   "cell_type": "code",
   "execution_count": null,
   "metadata": {},
   "outputs": [],
   "source": []
  }
 ],
 "metadata": {
  "kernelspec": {
   "display_name": "Python 3",
   "language": "python",
   "name": "python3"
  },
  "language_info": {
   "codemirror_mode": {
    "name": "ipython",
    "version": 3
   },
   "file_extension": ".py",
   "mimetype": "text/x-python",
   "name": "python",
   "nbconvert_exporter": "python",
   "pygments_lexer": "ipython3",
   "version": "3.7.7"
  }
 },
 "nbformat": 4,
 "nbformat_minor": 4
}
